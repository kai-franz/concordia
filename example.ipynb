{
  "cells": [
    {
      "cell_type": "markdown",
      "source": [
        "# Setup"
      ],
      "metadata": {
        "id": "RkJK59iwp96q"
      }
    },
    {
      "cell_type": "markdown",
      "source": [
        "### Install Concordia"
      ],
      "metadata": {
        "id": "t26hQlrgxdpM"
      }
    },
    {
      "cell_type": "code",
      "source": [
        "!pip install concordia-harmony"
      ],
      "metadata": {
        "colab": {
          "base_uri": "https://localhost:8080/"
        },
        "id": "I4VCmJ1Sxcd7",
        "outputId": "2491c82a-5b54-4433-fc7d-be5eecdb7bd0"
      },
      "execution_count": 4,
      "outputs": [
        {
          "output_type": "stream",
          "name": "stdout",
          "text": [
            "Looking in indexes: https://pypi.org/simple, https://us-python.pkg.dev/colab-wheels/public/simple/\n",
            "Collecting concordia-harmony\n",
            "  Downloading concordia_harmony-0.1.4-py3-none-any.whl (5.2 kB)\n",
            "Collecting z3-solver\n",
            "  Downloading z3_solver-4.12.1.0-py2.py3-none-manylinux1_x86_64.whl (56.0 MB)\n",
            "\u001b[2K     \u001b[90m━━━━━━━━━━━━━━━━━━━━━━━━━━━━━━━━━━━━━━━━\u001b[0m \u001b[32m56.0/56.0 MB\u001b[0m \u001b[31m18.0 MB/s\u001b[0m eta \u001b[36m0:00:00\u001b[0m\n",
            "\u001b[?25hRequirement already satisfied: music21 in /usr/local/lib/python3.10/dist-packages (from concordia-harmony) (8.1.0)\n",
            "Requirement already satisfied: chardet in /usr/local/lib/python3.10/dist-packages (from music21->concordia-harmony) (4.0.0)\n",
            "Requirement already satisfied: numpy in /usr/local/lib/python3.10/dist-packages (from music21->concordia-harmony) (1.22.4)\n",
            "Requirement already satisfied: webcolors>=1.5 in /usr/local/lib/python3.10/dist-packages (from music21->concordia-harmony) (1.13)\n",
            "Requirement already satisfied: joblib in /usr/local/lib/python3.10/dist-packages (from music21->concordia-harmony) (1.2.0)\n",
            "Requirement already satisfied: jsonpickle in /usr/local/lib/python3.10/dist-packages (from music21->concordia-harmony) (3.0.1)\n",
            "Requirement already satisfied: matplotlib in /usr/local/lib/python3.10/dist-packages (from music21->concordia-harmony) (3.7.1)\n",
            "Requirement already satisfied: more-itertools in /usr/local/lib/python3.10/dist-packages (from music21->concordia-harmony) (9.1.0)\n",
            "Requirement already satisfied: requests in /usr/local/lib/python3.10/dist-packages (from music21->concordia-harmony) (2.27.1)\n",
            "Requirement already satisfied: pyparsing>=2.3.1 in /usr/local/lib/python3.10/dist-packages (from matplotlib->music21->concordia-harmony) (3.0.9)\n",
            "Requirement already satisfied: python-dateutil>=2.7 in /usr/local/lib/python3.10/dist-packages (from matplotlib->music21->concordia-harmony) (2.8.2)\n",
            "Requirement already satisfied: contourpy>=1.0.1 in /usr/local/lib/python3.10/dist-packages (from matplotlib->music21->concordia-harmony) (1.0.7)\n",
            "Requirement already satisfied: packaging>=20.0 in /usr/local/lib/python3.10/dist-packages (from matplotlib->music21->concordia-harmony) (23.1)\n",
            "Requirement already satisfied: cycler>=0.10 in /usr/local/lib/python3.10/dist-packages (from matplotlib->music21->concordia-harmony) (0.11.0)\n",
            "Requirement already satisfied: kiwisolver>=1.0.1 in /usr/local/lib/python3.10/dist-packages (from matplotlib->music21->concordia-harmony) (1.4.4)\n",
            "Requirement already satisfied: fonttools>=4.22.0 in /usr/local/lib/python3.10/dist-packages (from matplotlib->music21->concordia-harmony) (4.39.3)\n",
            "Requirement already satisfied: pillow>=6.2.0 in /usr/local/lib/python3.10/dist-packages (from matplotlib->music21->concordia-harmony) (8.4.0)\n",
            "Requirement already satisfied: charset-normalizer~=2.0.0 in /usr/local/lib/python3.10/dist-packages (from requests->music21->concordia-harmony) (2.0.12)\n",
            "Requirement already satisfied: urllib3<1.27,>=1.21.1 in /usr/local/lib/python3.10/dist-packages (from requests->music21->concordia-harmony) (1.26.15)\n",
            "Requirement already satisfied: idna<4,>=2.5 in /usr/local/lib/python3.10/dist-packages (from requests->music21->concordia-harmony) (3.4)\n",
            "Requirement already satisfied: certifi>=2017.4.17 in /usr/local/lib/python3.10/dist-packages (from requests->music21->concordia-harmony) (2022.12.7)\n",
            "Requirement already satisfied: six>=1.5 in /usr/local/lib/python3.10/dist-packages (from python-dateutil>=2.7->matplotlib->music21->concordia-harmony) (1.16.0)\n",
            "Installing collected packages: z3-solver, concordia-harmony\n",
            "Successfully installed concordia-harmony-0.1.4 z3-solver-4.12.1.0\n"
          ]
        }
      ]
    },
    {
      "cell_type": "markdown",
      "metadata": {
        "id": "7ayYu78SYWs7"
      },
      "source": [
        "## Set up MuseScore for Colab\n",
        "\n",
        "Click the play button below to install MuseScore to use in Google Colab"
      ]
    },
    {
      "cell_type": "code",
      "execution_count": 5,
      "metadata": {
        "colab": {
          "base_uri": "https://localhost:8080/"
        },
        "id": "8r3K2_Tu7NUo",
        "outputId": "c196e7cc-5c39-4999-c6af-7eebfa2ccd51"
      },
      "outputs": [
        {
          "output_type": "stream",
          "name": "stdout",
          "text": [
            "\r0% [Working]\r            \rGet:1 https://cloud.r-project.org/bin/linux/ubuntu focal-cran40/ InRelease [3,622 B]\n",
            "\r0% [Connecting to archive.ubuntu.com] [Connecting to security.ubuntu.com (185.1\r0% [Connecting to archive.ubuntu.com] [Connecting to security.ubuntu.com (185.1\r                                                                               \rHit:2 https://developer.download.nvidia.com/compute/cuda/repos/ubuntu2004/x86_64  InRelease\n",
            "\r                                                                               \r0% [Waiting for headers] [Waiting for headers] [Waiting for headers]\r                                                                    \rHit:3 http://archive.ubuntu.com/ubuntu focal InRelease\n",
            "\r0% [Waiting for headers] [Waiting for headers] [Waiting for headers]\r                                                                    \rGet:4 http://archive.ubuntu.com/ubuntu focal-updates InRelease [114 kB]\n",
            "\r0% [4 InRelease 14.2 kB/114 kB 12%] [Waiting for headers] [Waiting for headers]\r                                                                               \rGet:5 http://security.ubuntu.com/ubuntu focal-security InRelease [114 kB]\n",
            "\r                                                                               \rHit:6 http://ppa.launchpad.net/c2d4u.team/c2d4u4.0+/ubuntu focal InRelease\n",
            "Get:7 http://archive.ubuntu.com/ubuntu focal-backports InRelease [108 kB]\n",
            "Hit:8 http://ppa.launchpad.net/cran/libgit2/ubuntu focal InRelease\n",
            "Hit:9 http://ppa.launchpad.net/deadsnakes/ppa/ubuntu focal InRelease\n",
            "Hit:10 http://ppa.launchpad.net/graphics-drivers/ppa/ubuntu focal InRelease\n",
            "Get:11 http://ppa.launchpad.net/mscore-ubuntu/mscore-stable/ubuntu focal InRelease [17.6 kB]\n",
            "Get:12 http://archive.ubuntu.com/ubuntu focal-updates/main amd64 Packages [3,157 kB]\n",
            "Hit:13 http://ppa.launchpad.net/ubuntugis/ppa/ubuntu focal InRelease\n",
            "Get:14 http://archive.ubuntu.com/ubuntu focal-updates/universe amd64 Packages [1,341 kB]\n",
            "Get:15 http://security.ubuntu.com/ubuntu focal-security/main amd64 Packages [2,674 kB]\n",
            "Get:16 http://ppa.launchpad.net/mscore-ubuntu/mscore-stable/ubuntu focal/main amd64 Packages [1,971 B]\n",
            "Get:17 http://security.ubuntu.com/ubuntu focal-security/universe amd64 Packages [1,045 kB]\n",
            "Fetched 8,576 kB in 2s (3,494 kB/s)\n",
            "Reading package lists... Done\n",
            "Hit:1 http://archive.ubuntu.com/ubuntu focal InRelease\n",
            "Hit:2 http://archive.ubuntu.com/ubuntu focal-updates InRelease\n",
            "Hit:3 https://cloud.r-project.org/bin/linux/ubuntu focal-cran40/ InRelease\n",
            "Hit:4 http://archive.ubuntu.com/ubuntu focal-backports InRelease\n",
            "Hit:5 https://developer.download.nvidia.com/compute/cuda/repos/ubuntu2004/x86_64  InRelease\n",
            "Hit:6 http://ppa.launchpad.net/c2d4u.team/c2d4u4.0+/ubuntu focal InRelease\n",
            "Hit:7 http://security.ubuntu.com/ubuntu focal-security InRelease\n",
            "Hit:8 http://ppa.launchpad.net/cran/libgit2/ubuntu focal InRelease\n",
            "Hit:9 http://ppa.launchpad.net/deadsnakes/ppa/ubuntu focal InRelease\n",
            "Hit:10 http://ppa.launchpad.net/graphics-drivers/ppa/ubuntu focal InRelease\n",
            "Hit:11 http://ppa.launchpad.net/mscore-ubuntu/mscore-stable/ubuntu focal InRelease\n",
            "Hit:12 http://ppa.launchpad.net/ubuntugis/ppa/ubuntu focal InRelease\n",
            "Reading package lists... Done\n",
            "Reading package lists... Done\n",
            "Building dependency tree       \n",
            "Reading state information... Done\n",
            "The following additional packages will be installed:\n",
            "  desktop-file-utils fonts-freefont-ttf libportaudio2 libportmidi0 libqt5help5\n",
            "  libqt5qml5 libqt5quick5 libqt5svg5 libqt5xmlpatterns5 musescore-common\n",
            "  musescore-general-soundfont-small qml-module-qtgraphicaleffects\n",
            "  qml-module-qtquick-controls qml-module-qtquick-dialogs\n",
            "  qml-module-qtquick-layouts qml-module-qtquick-privatewidgets\n",
            "  qml-module-qtquick-window2 qml-module-qtquick2\n",
            "Suggested packages:\n",
            "  qt5-qmltooling-plugins pulseaudio-utils\n",
            "The following NEW packages will be installed:\n",
            "  desktop-file-utils fonts-freefont-ttf libportaudio2 libportmidi0 libqt5help5\n",
            "  libqt5qml5 libqt5quick5 libqt5svg5 libqt5xmlpatterns5 musescore\n",
            "  musescore-common musescore-general-soundfont-small\n",
            "  qml-module-qtgraphicaleffects qml-module-qtquick-controls\n",
            "  qml-module-qtquick-dialogs qml-module-qtquick-layouts\n",
            "  qml-module-qtquick-privatewidgets qml-module-qtquick-window2\n",
            "  qml-module-qtquick2\n",
            "0 upgraded, 19 newly installed, 0 to remove and 26 not upgraded.\n",
            "Need to get 50.3 MB of archives.\n",
            "After this operation, 112 MB of additional disk space will be used.\n",
            "Get:1 http://archive.ubuntu.com/ubuntu focal/universe amd64 libqt5svg5 amd64 5.12.8-0ubuntu1 [131 kB]\n",
            "Get:2 http://archive.ubuntu.com/ubuntu focal/universe amd64 libqt5qml5 amd64 5.12.8-0ubuntu1 [1,438 kB]\n",
            "Get:3 http://archive.ubuntu.com/ubuntu focal/universe amd64 libqt5quick5 amd64 5.12.8-0ubuntu1 [1,335 kB]\n",
            "Get:4 http://archive.ubuntu.com/ubuntu focal/universe amd64 qml-module-qtquick-window2 amd64 5.12.8-0ubuntu1 [21.4 kB]\n",
            "Get:5 http://archive.ubuntu.com/ubuntu focal/universe amd64 qml-module-qtquick2 amd64 5.12.8-0ubuntu1 [36.2 kB]\n",
            "Get:6 http://archive.ubuntu.com/ubuntu focal/universe amd64 qml-module-qtgraphicaleffects amd64 5.12.8-0ubuntu1 [71.2 kB]\n",
            "Get:7 http://archive.ubuntu.com/ubuntu focal/universe amd64 qml-module-qtquick-layouts amd64 5.12.8-0ubuntu1 [48.5 kB]\n",
            "Get:8 http://archive.ubuntu.com/ubuntu focal/universe amd64 qml-module-qtquick-controls amd64 5.12.8-0ubuntu2 [520 kB]\n",
            "Get:9 http://archive.ubuntu.com/ubuntu focal-updates/main amd64 desktop-file-utils amd64 0.24-1ubuntu3 [50.6 kB]\n",
            "Get:10 http://archive.ubuntu.com/ubuntu focal/main amd64 fonts-freefont-ttf all 20120503-10 [2,440 kB]\n",
            "Get:11 http://ppa.launchpad.net/mscore-ubuntu/mscore-stable/ubuntu focal/main amd64 musescore-general-soundfont-small all 0.2.1-1~ppa [34.2 MB]\n",
            "Get:12 http://archive.ubuntu.com/ubuntu focal/universe amd64 libportaudio2 amd64 19.6.0-1build1 [65.4 kB]\n",
            "Get:13 http://archive.ubuntu.com/ubuntu focal/universe amd64 libportmidi0 amd64 1:217-6 [17.8 kB]\n",
            "Get:14 http://archive.ubuntu.com/ubuntu focal/universe amd64 libqt5help5 amd64 5.12.8-0ubuntu1 [134 kB]\n",
            "Get:15 http://archive.ubuntu.com/ubuntu focal/universe amd64 libqt5xmlpatterns5 amd64 5.12.8-0ubuntu1 [959 kB]\n",
            "Get:16 http://archive.ubuntu.com/ubuntu focal/universe amd64 qml-module-qtquick-privatewidgets amd64 5.12.8-0ubuntu2 [42.5 kB]\n",
            "Get:17 http://archive.ubuntu.com/ubuntu focal/universe amd64 qml-module-qtquick-dialogs amd64 5.12.8-0ubuntu2 [118 kB]\n",
            "Get:18 http://ppa.launchpad.net/mscore-ubuntu/mscore-stable/ubuntu focal/main amd64 musescore-common all 2.3.2+dfsg4-15~ppa2004+1 [3,356 kB]\n",
            "Get:19 http://ppa.launchpad.net/mscore-ubuntu/mscore-stable/ubuntu focal/main amd64 musescore amd64 2.3.2+dfsg4-15~ppa2004+1 [5,382 kB]\n",
            "Fetched 50.3 MB in 3s (16.4 MB/s)\n",
            "Selecting previously unselected package libqt5svg5:amd64.\n",
            "(Reading database ... 122518 files and directories currently installed.)\n",
            "Preparing to unpack .../00-libqt5svg5_5.12.8-0ubuntu1_amd64.deb ...\n",
            "Unpacking libqt5svg5:amd64 (5.12.8-0ubuntu1) ...\n",
            "Selecting previously unselected package libqt5qml5:amd64.\n",
            "Preparing to unpack .../01-libqt5qml5_5.12.8-0ubuntu1_amd64.deb ...\n",
            "Unpacking libqt5qml5:amd64 (5.12.8-0ubuntu1) ...\n",
            "Selecting previously unselected package libqt5quick5:amd64.\n",
            "Preparing to unpack .../02-libqt5quick5_5.12.8-0ubuntu1_amd64.deb ...\n",
            "Unpacking libqt5quick5:amd64 (5.12.8-0ubuntu1) ...\n",
            "Selecting previously unselected package qml-module-qtquick-window2:amd64.\n",
            "Preparing to unpack .../03-qml-module-qtquick-window2_5.12.8-0ubuntu1_amd64.deb ...\n",
            "Unpacking qml-module-qtquick-window2:amd64 (5.12.8-0ubuntu1) ...\n",
            "Selecting previously unselected package qml-module-qtquick2:amd64.\n",
            "Preparing to unpack .../04-qml-module-qtquick2_5.12.8-0ubuntu1_amd64.deb ...\n",
            "Unpacking qml-module-qtquick2:amd64 (5.12.8-0ubuntu1) ...\n",
            "Selecting previously unselected package qml-module-qtgraphicaleffects:amd64.\n",
            "Preparing to unpack .../05-qml-module-qtgraphicaleffects_5.12.8-0ubuntu1_amd64.deb ...\n",
            "Unpacking qml-module-qtgraphicaleffects:amd64 (5.12.8-0ubuntu1) ...\n",
            "Selecting previously unselected package qml-module-qtquick-layouts:amd64.\n",
            "Preparing to unpack .../06-qml-module-qtquick-layouts_5.12.8-0ubuntu1_amd64.deb ...\n",
            "Unpacking qml-module-qtquick-layouts:amd64 (5.12.8-0ubuntu1) ...\n",
            "Selecting previously unselected package qml-module-qtquick-controls:amd64.\n",
            "Preparing to unpack .../07-qml-module-qtquick-controls_5.12.8-0ubuntu2_amd64.deb ...\n",
            "Unpacking qml-module-qtquick-controls:amd64 (5.12.8-0ubuntu2) ...\n",
            "Selecting previously unselected package desktop-file-utils.\n",
            "Preparing to unpack .../08-desktop-file-utils_0.24-1ubuntu3_amd64.deb ...\n",
            "Unpacking desktop-file-utils (0.24-1ubuntu3) ...\n",
            "Selecting previously unselected package fonts-freefont-ttf.\n",
            "Preparing to unpack .../09-fonts-freefont-ttf_20120503-10_all.deb ...\n",
            "Unpacking fonts-freefont-ttf (20120503-10) ...\n",
            "Selecting previously unselected package libportaudio2:amd64.\n",
            "Preparing to unpack .../10-libportaudio2_19.6.0-1build1_amd64.deb ...\n",
            "Unpacking libportaudio2:amd64 (19.6.0-1build1) ...\n",
            "Selecting previously unselected package libportmidi0:amd64.\n",
            "Preparing to unpack .../11-libportmidi0_1%3a217-6_amd64.deb ...\n",
            "Unpacking libportmidi0:amd64 (1:217-6) ...\n",
            "Selecting previously unselected package libqt5help5:amd64.\n",
            "Preparing to unpack .../12-libqt5help5_5.12.8-0ubuntu1_amd64.deb ...\n",
            "Unpacking libqt5help5:amd64 (5.12.8-0ubuntu1) ...\n",
            "Selecting previously unselected package libqt5xmlpatterns5:amd64.\n",
            "Preparing to unpack .../13-libqt5xmlpatterns5_5.12.8-0ubuntu1_amd64.deb ...\n",
            "Unpacking libqt5xmlpatterns5:amd64 (5.12.8-0ubuntu1) ...\n",
            "Selecting previously unselected package qml-module-qtquick-privatewidgets:amd64.\n",
            "Preparing to unpack .../14-qml-module-qtquick-privatewidgets_5.12.8-0ubuntu2_amd64.deb ...\n",
            "Unpacking qml-module-qtquick-privatewidgets:amd64 (5.12.8-0ubuntu2) ...\n",
            "Selecting previously unselected package qml-module-qtquick-dialogs:amd64.\n",
            "Preparing to unpack .../15-qml-module-qtquick-dialogs_5.12.8-0ubuntu2_amd64.deb ...\n",
            "Unpacking qml-module-qtquick-dialogs:amd64 (5.12.8-0ubuntu2) ...\n",
            "Selecting previously unselected package musescore-general-soundfont-small.\n",
            "Preparing to unpack .../16-musescore-general-soundfont-small_0.2.1-1~ppa_all.deb ...\n",
            "Unpacking musescore-general-soundfont-small (0.2.1-1~ppa) ...\n",
            "Selecting previously unselected package musescore-common.\n",
            "Preparing to unpack .../17-musescore-common_2.3.2+dfsg4-15~ppa2004+1_all.deb ...\n",
            "Unpacking musescore-common (2.3.2+dfsg4-15~ppa2004+1) ...\n",
            "Selecting previously unselected package musescore.\n",
            "Preparing to unpack .../18-musescore_2.3.2+dfsg4-15~ppa2004+1_amd64.deb ...\n",
            "Unpacking musescore (2.3.2+dfsg4-15~ppa2004+1) ...\n",
            "Setting up libportaudio2:amd64 (19.6.0-1build1) ...\n",
            "Setting up desktop-file-utils (0.24-1ubuntu3) ...\n",
            "Setting up libqt5xmlpatterns5:amd64 (5.12.8-0ubuntu1) ...\n",
            "Setting up libqt5svg5:amd64 (5.12.8-0ubuntu1) ...\n",
            "Setting up fonts-freefont-ttf (20120503-10) ...\n",
            "Setting up musescore-general-soundfont-small (0.2.1-1~ppa) ...\n",
            "update-alternatives: using /usr/share/sounds/sf3/MuseScore_General_Lite.sf3 to provide /usr/share/sounds/sf3/default-GM.sf3 (default-GM.sf3) in auto mode\n",
            "update-alternatives: using /usr/share/sounds/sf3/MuseScore_General_Lite.sf3 to provide /usr/share/sounds/sf3/MuseScore_General.sf3 (MuseScore_General.sf3) in auto mode\n",
            "Setting up libqt5help5:amd64 (5.12.8-0ubuntu1) ...\n",
            "Setting up musescore-common (2.3.2+dfsg4-15~ppa2004+1) ...\n",
            "Setting up libqt5qml5:amd64 (5.12.8-0ubuntu1) ...\n",
            "Setting up libportmidi0:amd64 (1:217-6) ...\n",
            "Setting up libqt5quick5:amd64 (5.12.8-0ubuntu1) ...\n",
            "Setting up qml-module-qtquick-privatewidgets:amd64 (5.12.8-0ubuntu2) ...\n",
            "Setting up qml-module-qtquick-window2:amd64 (5.12.8-0ubuntu1) ...\n",
            "Setting up qml-module-qtquick-layouts:amd64 (5.12.8-0ubuntu1) ...\n",
            "Setting up qml-module-qtquick-dialogs:amd64 (5.12.8-0ubuntu2) ...\n",
            "Setting up qml-module-qtquick2:amd64 (5.12.8-0ubuntu1) ...\n",
            "Setting up qml-module-qtgraphicaleffects:amd64 (5.12.8-0ubuntu1) ...\n",
            "Setting up qml-module-qtquick-controls:amd64 (5.12.8-0ubuntu2) ...\n",
            "Setting up musescore (2.3.2+dfsg4-15~ppa2004+1) ...\n",
            "Processing triggers for mime-support (3.64ubuntu1) ...\n",
            "Processing triggers for hicolor-icon-theme (0.17-2) ...\n",
            "Processing triggers for libc-bin (2.31-0ubuntu9.9) ...\n",
            "Processing triggers for man-db (2.9.1-1) ...\n",
            "Processing triggers for shared-mime-info (1.15-1) ...\n",
            "Processing triggers for fontconfig (2.13.1-2ubuntu3) ...\n"
          ]
        }
      ],
      "source": [
        "!add-apt-repository ppa:mscore-ubuntu/mscore-stable -y\n",
        "!apt-get update\n",
        "!apt-get install musescore"
      ]
    },
    {
      "cell_type": "code",
      "execution_count": 6,
      "metadata": {
        "colab": {
          "base_uri": "https://localhost:8080/"
        },
        "id": "Yxxz3oEIVkeI",
        "outputId": "9bf163de-a050-4342-e683-23592a076dea"
      },
      "outputs": [
        {
          "output_type": "stream",
          "name": "stdout",
          "text": [
            "Reading package lists... Done\n",
            "Building dependency tree       \n",
            "Reading state information... Done\n",
            "The following additional packages will be installed:\n",
            "  libfontenc1 libxfont2 libxkbfile1 x11-xkb-utils xfonts-base xfonts-encodings\n",
            "  xfonts-utils xserver-common\n",
            "The following NEW packages will be installed:\n",
            "  libfontenc1 libxfont2 libxkbfile1 x11-xkb-utils xfonts-base xfonts-encodings\n",
            "  xfonts-utils xserver-common xvfb\n",
            "0 upgraded, 9 newly installed, 0 to remove and 26 not upgraded.\n",
            "Need to get 7,697 kB of archives.\n",
            "After this operation, 11.9 MB of additional disk space will be used.\n",
            "Get:1 http://archive.ubuntu.com/ubuntu focal/main amd64 libfontenc1 amd64 1:1.1.4-0ubuntu1 [14.0 kB]\n",
            "Get:2 http://archive.ubuntu.com/ubuntu focal/main amd64 libxfont2 amd64 1:2.0.3-1 [91.7 kB]\n",
            "Get:3 http://archive.ubuntu.com/ubuntu focal/main amd64 libxkbfile1 amd64 1:1.1.0-1 [65.3 kB]\n",
            "Get:4 http://archive.ubuntu.com/ubuntu focal/main amd64 x11-xkb-utils amd64 7.7+5 [158 kB]\n",
            "Get:5 http://archive.ubuntu.com/ubuntu focal/main amd64 xfonts-encodings all 1:1.0.5-0ubuntu1 [573 kB]\n",
            "Get:6 http://archive.ubuntu.com/ubuntu focal/main amd64 xfonts-utils amd64 1:7.7+6 [91.5 kB]\n",
            "Get:7 http://archive.ubuntu.com/ubuntu focal/main amd64 xfonts-base all 1:1.0.5 [5,896 kB]\n",
            "Get:8 http://archive.ubuntu.com/ubuntu focal-updates/main amd64 xserver-common all 2:1.20.13-1ubuntu1~20.04.8 [27.2 kB]\n",
            "Get:9 http://archive.ubuntu.com/ubuntu focal-updates/universe amd64 xvfb amd64 2:1.20.13-1ubuntu1~20.04.8 [780 kB]\n",
            "Fetched 7,697 kB in 1s (8,317 kB/s)\n",
            "Selecting previously unselected package libfontenc1:amd64.\n",
            "(Reading database ... 123453 files and directories currently installed.)\n",
            "Preparing to unpack .../0-libfontenc1_1%3a1.1.4-0ubuntu1_amd64.deb ...\n",
            "Unpacking libfontenc1:amd64 (1:1.1.4-0ubuntu1) ...\n",
            "Selecting previously unselected package libxfont2:amd64.\n",
            "Preparing to unpack .../1-libxfont2_1%3a2.0.3-1_amd64.deb ...\n",
            "Unpacking libxfont2:amd64 (1:2.0.3-1) ...\n",
            "Selecting previously unselected package libxkbfile1:amd64.\n",
            "Preparing to unpack .../2-libxkbfile1_1%3a1.1.0-1_amd64.deb ...\n",
            "Unpacking libxkbfile1:amd64 (1:1.1.0-1) ...\n",
            "Selecting previously unselected package x11-xkb-utils.\n",
            "Preparing to unpack .../3-x11-xkb-utils_7.7+5_amd64.deb ...\n",
            "Unpacking x11-xkb-utils (7.7+5) ...\n",
            "Selecting previously unselected package xfonts-encodings.\n",
            "Preparing to unpack .../4-xfonts-encodings_1%3a1.0.5-0ubuntu1_all.deb ...\n",
            "Unpacking xfonts-encodings (1:1.0.5-0ubuntu1) ...\n",
            "Selecting previously unselected package xfonts-utils.\n",
            "Preparing to unpack .../5-xfonts-utils_1%3a7.7+6_amd64.deb ...\n",
            "Unpacking xfonts-utils (1:7.7+6) ...\n",
            "Selecting previously unselected package xfonts-base.\n",
            "Preparing to unpack .../6-xfonts-base_1%3a1.0.5_all.deb ...\n",
            "Unpacking xfonts-base (1:1.0.5) ...\n",
            "Selecting previously unselected package xserver-common.\n",
            "Preparing to unpack .../7-xserver-common_2%3a1.20.13-1ubuntu1~20.04.8_all.deb ...\n",
            "Unpacking xserver-common (2:1.20.13-1ubuntu1~20.04.8) ...\n",
            "Selecting previously unselected package xvfb.\n",
            "Preparing to unpack .../8-xvfb_2%3a1.20.13-1ubuntu1~20.04.8_amd64.deb ...\n",
            "Unpacking xvfb (2:1.20.13-1ubuntu1~20.04.8) ...\n",
            "Setting up libfontenc1:amd64 (1:1.1.4-0ubuntu1) ...\n",
            "Setting up xfonts-encodings (1:1.0.5-0ubuntu1) ...\n",
            "Setting up libxkbfile1:amd64 (1:1.1.0-1) ...\n",
            "Setting up libxfont2:amd64 (1:2.0.3-1) ...\n",
            "Setting up x11-xkb-utils (7.7+5) ...\n",
            "Setting up xfonts-utils (1:7.7+6) ...\n",
            "Setting up xfonts-base (1:1.0.5) ...\n",
            "Setting up xserver-common (2:1.20.13-1ubuntu1~20.04.8) ...\n",
            "Setting up xvfb (2:1.20.13-1ubuntu1~20.04.8) ...\n",
            "Processing triggers for man-db (2.9.1-1) ...\n",
            "Processing triggers for fontconfig (2.13.1-2ubuntu3) ...\n",
            "Processing triggers for libc-bin (2.31-0ubuntu9.9) ...\n"
          ]
        }
      ],
      "source": [
        "!apt-get install xvfb"
      ]
    },
    {
      "cell_type": "code",
      "execution_count": 7,
      "metadata": {
        "id": "CP91XD_o8nr4"
      },
      "outputs": [],
      "source": [
        "from music21 import *\n",
        "us = environment.UserSettings()\n",
        "us['musescoreDirectPNGPath'] = '/usr/bin/mscore'\n",
        "us['directoryScratch'] = '/tmp'\n",
        "\n",
        "# music21 is Open Source under the BSD License\n",
        "# Copyright (c) 2006-22 Michael Scott Asato Cuthbert and cuthbertLab\n",
        "# Support music21 by citing it in your research or produts:\n",
        "#\n",
        "#     Cuthbert, Michael Scott.  \n",
        "#     _music21: a Toolkit for Computer-Aided Music Research_\n",
        "#     https://web.mit.edu/music21\n",
        "#     2006-22"
      ]
    },
    {
      "cell_type": "markdown",
      "metadata": {
        "id": "6C3G6bMAYQSz"
      },
      "source": [
        "# Harmony Solving"
      ]
    },
    {
      "cell_type": "markdown",
      "source": [
        "## Demo"
      ],
      "metadata": {
        "id": "CMwrc_ZDwKCY"
      }
    },
    {
      "cell_type": "code",
      "source": [
        "from concordia.constraints import *\n",
        "from concordia.solver import ConcordiaSolver\n",
        "from pprint import pprint"
      ],
      "metadata": {
        "id": "56gSTG-bxX7r"
      },
      "execution_count": 8,
      "outputs": []
    },
    {
      "cell_type": "code",
      "source": [
        "key = 'A'\n",
        "romans = 'I IV4 I6 V vi IV6 ii6 V7 I'\n",
        "num_chord = len(romans.split(' '))\n",
        "chords = [ChordVar([f's{i}', f'a{i}', f't{i}', f'b{i}']) for i in range(num_chord)]\n",
        "s, a, t, b = stream_vars = [StreamVar([f'{part}{i}' for i in range(num_chord)]) for part in ['s', 'a', 't', 'b']]\n",
        "\n",
        "pitch_class_midi_rel = z3.And([PitchClassMidiRelation(pitch_var) for chord in chords for pitch_var in chord.pitches])\n",
        "four_part_range = FourPartRange((s, a, t, b))\n",
        "no_overlaps = z3.And([NoVoiceOverlap(chord_var) for chord_var in chords])\n",
        "chord_eqs = z3.And([ChordEqRoman(chord_var, key, roman) for chord_var, roman in zip(chords, romans.split(' '))])\n",
        "\n",
        "# More constraints\n",
        "chord_specific = z3.And([DoubleRoot(chords[-1], key, 'I')])\n",
        "\n",
        "no_crossing = z3.And([NoVoiceCrossing(a, b) for a, b in zip(chords, chords[1:])])\n",
        "no_parallel_5th = z3.And([NoParallelFifth(a, b) for a, b in zip(chords, chords[1:])])\n",
        "no_parallel_8ve = z3.And([NoParallelOctave(a, b) for a, b in zip(chords, chords[1:])])\n",
        "smooth_voices = z3.And(SmoothVoice(s, 'M3'), SmoothVoice(a, 'P5'), SmoothVoice(t, 'P5'), SmoothVoice(b, 'P5'))\n",
        "at_most_8ve_apart = z3.And(\n",
        "    [VoicesWithinInterval(upper, lower, 'P8') for upper, lower in zip(stream_vars[:-1], stream_vars[1:-1])])\n",
        "\n",
        "solver = ConcordiaSolver(key, stream_vars)\n",
        "solver.add(pitch_class_midi_rel, four_part_range, no_overlaps, no_crossing, chord_eqs)\n",
        "solver.add(chord_specific)\n",
        "solver.add(no_parallel_5th)\n",
        "solver.add(no_parallel_8ve)\n",
        "solver.add(smooth_voices)\n",
        "solver.add(PitchClassEq(chords[-1].soprano(), pitch.Pitch('A')))\n",
        "# solver.add(PitchClassEq(chords[-2].soprano(), pitch.Pitch('G#')))\n",
        "solver.add(at_most_8ve_apart)\n",
        "\n",
        "solver.solve()\n",
        "\n",
        "print('====== Model ======')\n",
        "# pprint(solver.model)\n",
        "print('\\n====== Demo ======\\n')\n",
        "solver.display_results()\n"
      ],
      "metadata": {
        "colab": {
          "base_uri": "https://localhost:8080/",
          "height": 215
        },
        "id": "FQhTIQ8ZwtiX",
        "outputId": "88aaa804-bbe2-4f97-83a0-e4eafee6f03f"
      },
      "execution_count": 9,
      "outputs": [
        {
          "output_type": "stream",
          "name": "stdout",
          "text": [
            "====== Model ======\n",
            "\n",
            "====== Demo ======\n",
            "\n"
          ]
        },
        {
          "output_type": "display_data",
          "data": {
            "image/png": "[encoded data removed]",
            "text/plain": [
              "<IPython.core.display.Image object>"
            ]
          },
          "metadata": {
            "image/png": {
              "width": 748,
              "height": 129
            }
          }
        },
        {
          "output_type": "display_data",
          "data": {
            "text/plain": [
              "<IPython.core.display.HTML object>"
            ],
            "text/html": [
              "\n",
              "                <div id=\"midiPlayerDiv617\"></div>\n",
              "                <link rel=\"stylesheet\" href=\"//cuthbertLab.github.io/music21j/css/m21.css\"\n",
              "                    type=\"text/css\" />\n",
              "                \n",
              "                    <script src=\"//cuthbertLab.github.io/music21j/ext/require/require.js\"\n",
              "                    ></script>\n",
              "                \n",
              "                <script>\n",
              "                require.config({\n",
              "                    paths: {'music21': '//cuthbertLab.github.io/music21j/src/music21'}\n",
              "                });\n",
              "                require(['music21'], function() {\n",
              "                               mp = new music21.miditools.MidiPlayer();\n",
              "                               mp.addPlayer(\"#midiPlayerDiv617\");\n",
              "                               mp.base64Load(\"data:audio/midi;base64,TVRoZAAAAAYAAQADBABNVHJrAAAAGgD/UQMHoSAA/1kCAwAA/1gEBAIYCIgA/y8ATVRyawAAAKcA/wMAAOAAQIgAkEBaAJA9WogAgEAAAIA9AACQRFoAkD5aiACARAAAgD4AAJBFWgCQQFqIAIBFAACAQAAAkEdaAJA7WogAgEcAAIA7AACQSVoAkEJaiACASQAAgEIAAJBKWgCQRVqIAIBKAACARQAAkEdaAJBCWogAgEcAAIBCAACQRFoAkD5aiACARAAAgD4AAJBFWgCQQFqIAIBFAACAQACIAP8vAE1UcmsAAACnAP8DAADgAECIAJA9WgCQLVqIAIA9AACALQAAkDhaAJAyWogAgDgAAIAyAACQNFoAkDFaiACANAAAgDEAAJA4WgCQNFqIAIA4AACANAAAkDlaAJA2WogAgDkAAIA2AACQPloAkDZaiACAPgAAgDYAAJA+WgCQMlqIAIA+AACAMgAAkDtaAJA0WogAgDsAAIA0AACQPVoAkC1aiACAPQAAgC0AiAD/LwA=\");\n",
              "                        });\n",
              "                </script>"
            ]
          },
          "metadata": {}
        }
      ]
    }
  ],
  "metadata": {
    "colab": {
      "collapsed_sections": [
        "7ayYu78SYWs7",
        "3vZ5OpcEfsS1"
      ],
      "provenance": []
    },
    "kernelspec": {
      "display_name": "Python 3",
      "name": "python3"
    }
  },
  "nbformat": 4,
  "nbformat_minor": 0
}